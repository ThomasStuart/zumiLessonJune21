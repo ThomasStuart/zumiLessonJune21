{
 "cells": [
  {
   "cell_type": "code",
   "execution_count": 2,
   "metadata": {},
   "outputs": [
    {
     "name": "stdout",
     "output_type": "stream",
     "text": [
      "6\n",
      "5\n",
      "7\n"
     ]
    }
   ],
   "source": [
    "# Max token class. \n",
    "# Given some strings that represent a password, \n",
    "# rate the password and get the max score of all the given.\n",
    "\n",
    "# Score: \n",
    "#     1 point for letter,\n",
    "#     2 point for num, \n",
    "#      3 for symbol \n",
    "\n",
    "# 1.) “p1$”  ->  6 points \n",
    "# 2.) “a99”  ->  5 points  \n",
    "# 3.) \"p@!\"  ->  7 points \n",
    "\n",
    "\n",
    "def scorePassword( password ): \n",
    "    score = 0\n",
    "    \n",
    "    # if statements to determine letter, number, or symbol \n",
    "    # --> \n",
    "    # if letter, add 1 point   \n",
    "    # elif number, add 2 points \n",
    "    # else symbol, add 3 points \n",
    "    \n",
    "    for i in range(0, len(password) ):\n",
    "        char = password[i]\n",
    "        \n",
    "        if char.isalpha() == True:\n",
    "            score += 1\n",
    "        elif char.isdigit() == True:\n",
    "            score += 2\n",
    "        else:\n",
    "            score += 3 \n",
    "        \n",
    "    return score \n",
    "    \n",
    "    \n",
    "    \n",
    "password1 = \"p1$\"\n",
    "print(scorePassword(password1)  )  # -> 6  \n",
    "password2 = \"a99\"\n",
    "print( scorePassword(password2) )  # -> 5 \n",
    "password3 = \"p@!\"\n",
    "print( scorePassword(password3) )  # -> 7 "
   ]
  },
  {
   "cell_type": "code",
   "execution_count": 4,
   "metadata": {},
   "outputs": [
    {
     "name": "stdout",
     "output_type": "stream",
     "text": [
      "('p@!', 7)\n"
     ]
    }
   ],
   "source": [
    "from math import inf \n",
    "\n",
    "def getMaxPassword( passwords ):\n",
    "    # created a list called pairs that was initally empty \n",
    "    pairs = []\n",
    "    \n",
    "    # feed each password into the scorePassword function \n",
    "    for word in passwords:\n",
    "        pairs.append( (word, scorePassword(word)) )\n",
    "        \n",
    "    \n",
    "    # get max\n",
    "    maxPassword = \"\"\n",
    "    maxScore    = -inf\n",
    "    \n",
    "    for i in range(0,len(pairs)):\n",
    "        currentPassword = pairs[i][0]\n",
    "        currentScore    = scorePassword( currentPassword )\n",
    "        \n",
    "        if currentScore > maxScore :\n",
    "            maxPassword = currentPassword\n",
    "            maxScore    = currentScore \n",
    "        \n",
    "        \n",
    "    return maxPassword, maxScore\n",
    "\n",
    "\n",
    "passwords1 = [\"p1$\", \"a99\", \"p@!\"]\n",
    "print( getMaxPassword( passwords1 ) ) # ( p@! , 7 )"
   ]
  },
  {
   "cell_type": "code",
   "execution_count": null,
   "metadata": {},
   "outputs": [],
   "source": []
  }
 ],
 "metadata": {
  "kernelspec": {
   "display_name": "Python 3",
   "language": "python",
   "name": "python3"
  },
  "language_info": {
   "codemirror_mode": {
    "name": "ipython",
    "version": 3
   },
   "file_extension": ".py",
   "mimetype": "text/x-python",
   "name": "python",
   "nbconvert_exporter": "python",
   "pygments_lexer": "ipython3",
   "version": "3.5.3"
  }
 },
 "nbformat": 4,
 "nbformat_minor": 2
}
