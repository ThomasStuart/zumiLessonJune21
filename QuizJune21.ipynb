{
 "cells": [
  {
   "cell_type": "markdown",
   "metadata": {},
   "source": [
    "### What is the purpose of classes?\n",
    "\n",
    "A.) Classes help organize data. <br>\n",
    "B.) Classes are required in order to make a big program. As in compiler errors if not.  <br>\n",
    "C.) Classes are more time consuming to make with smaller programs.  <br>\n",
    "D.) Classes make it so code can be segmented and worked on by different teams <br>"
   ]
  },
  {
   "cell_type": "code",
   "execution_count": null,
   "metadata": {},
   "outputs": [],
   "source": [
    "### Create a class called User that takes in a username and password property.  Create 2 user objects \n",
    "\n"
   ]
  },
  {
   "cell_type": "code",
   "execution_count": null,
   "metadata": {},
   "outputs": [],
   "source": [
    "### Create a class Circle that takes a radius and name. Calculate the area and perimeter.  \n"
   ]
  },
  {
   "cell_type": "code",
   "execution_count": null,
   "metadata": {},
   "outputs": [],
   "source": [
    "# What is the code to select the max number from the list  ?\n",
    "\n",
    "\n",
    "from math import inf \n",
    "\n",
    "tips = [ 11, 23, 100, 21 , 80 ]\n",
    "\n",
    "maxt = -inf \n",
    "\n",
    "for i in range(0, len(tips) ):\n",
    "    # CODE GOES HERE \n",
    "    pass\n",
    "        \n",
    "print(maxt)\n",
    "\n",
    "\n",
    "\n",
    "#A.) if tips[i] > maxt:\n",
    "#        maxt = tips[i]\n",
    "\n",
    "#B.)if tips[i] < maxt:\n",
    "#        maxt = tips[i]\n",
    "\n",
    "#C.)if tips[i] != maxt:\n",
    "#        maxt = tips[i]\n",
    "\n",
    "#D.) if tips[i] == maxt:\n",
    "#        maxt = tips[i]\n"
   ]
  }
 ],
 "metadata": {
  "kernelspec": {
   "display_name": "Python 3",
   "language": "python",
   "name": "python3"
  },
  "language_info": {
   "codemirror_mode": {
    "name": "ipython",
    "version": 3
   },
   "file_extension": ".py",
   "mimetype": "text/x-python",
   "name": "python",
   "nbconvert_exporter": "python",
   "pygments_lexer": "ipython3",
   "version": "3.5.3"
  }
 },
 "nbformat": 4,
 "nbformat_minor": 2
}
